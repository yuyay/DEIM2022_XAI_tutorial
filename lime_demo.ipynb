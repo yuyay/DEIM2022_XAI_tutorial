{
 "cells": [
  {
   "cell_type": "markdown",
   "metadata": {},
   "source": [
    "# PythonによるLIMEの実装例"
   ]
  },
  {
   "cell_type": "markdown",
   "metadata": {},
   "source": [
    "## データの読み込み"
   ]
  },
  {
   "cell_type": "code",
   "execution_count": null,
   "metadata": {},
   "outputs": [],
   "source": [
    "import numpy as np\n",
    "from sklearn.datasets import fetch_california_housing\n",
    "from sklearn.model_selection import train_test_split\n",
    "from sklearn.preprocessing import StandardScaler\n",
    "\n",
    "dataset = fetch_california_housing()\n",
    "X_tr, X_te, y_tr, y_te = train_test_split(\n",
    "    dataset.data, dataset.target, test_size=0.2)\n",
    "X_scaler = StandardScaler().fit(X_tr)\n",
    "X_tr = X_scaler.transform(X_tr)\n",
    "X_te = X_scaler.transform(X_te)"
   ]
  },
  {
   "cell_type": "code",
   "execution_count": null,
   "metadata": {},
   "outputs": [],
   "source": [
    "import pandas as pd\n",
    "print(pd.DataFrame(X_tr, columns=dataset.feature_names))"
   ]
  },
  {
   "cell_type": "code",
   "execution_count": null,
   "metadata": {},
   "outputs": [],
   "source": [
    "print(pd.DataFrame(y_tr))"
   ]
  },
  {
   "cell_type": "markdown",
   "metadata": {},
   "source": [
    "## 予測モデルの学習"
   ]
  },
  {
   "cell_type": "code",
   "execution_count": null,
   "metadata": {},
   "outputs": [],
   "source": [
    "from sklearn.neural_network import MLPRegressor\n",
    "from sklearn.metrics import mean_squared_error\n",
    "\n",
    "pred_model = MLPRegressor(hidden_layer_sizes=(100,100,))\n",
    "pred_model.fit(X_tr, y_tr)\n",
    "y_pred = pred_model.predict(X_te)\n",
    "mean_squared_error(y_te, y_pred)"
   ]
  },
  {
   "cell_type": "code",
   "execution_count": null,
   "metadata": {},
   "outputs": [],
   "source": [
    "import matplotlib.pyplot as plt \n",
    "%matplotlib inline\n",
    "plt.scatter(y_te, y_pred)\n",
    "plt.xlabel('Actual')\n",
    "plt.ylabel('Predicted')\n",
    "plt.show()"
   ]
  },
  {
   "cell_type": "markdown",
   "metadata": {},
   "source": [
    "## 疑似事例の生成器クラスの定義"
   ]
  },
  {
   "cell_type": "code",
   "execution_count": null,
   "metadata": {},
   "outputs": [],
   "source": [
    "import scipy\n",
    "\n",
    "class SampleGenerator(object):\n",
    "    def prepare(self, X_tr):\n",
    "        _, d = X_tr.shape\n",
    "        self.bins = []\n",
    "        self.means = []\n",
    "        self.stds = []\n",
    "        self.mins = []\n",
    "        self.maxs = []\n",
    "        for j in range(d):\n",
    "            '''四分位数を求める'''\n",
    "            qts = np.percentile(X_tr[:, j], [25, 50, 75])\n",
    "            self.bins.append(qts)\n",
    "\n",
    "            '''どの四分位に所属するのかを求める'''\n",
    "            bidxes = np.digitize(X_tr[:, j], qts)\n",
    "\n",
    "            '''各四分位の平均・標準偏差・最小・最大を求める'''\n",
    "            means_k = []\n",
    "            stds_k = []\n",
    "            for k in range(len(qts) + 1):\n",
    "                X_selected = X_tr[bidxes == k, j]\n",
    "                means_k.append(X_selected.mean())\n",
    "                stds_k.append(X_selected.std())\n",
    "            self.means.append(means_k)\n",
    "            self.stds.append(stds_k)\n",
    "            self.mins.append(\n",
    "                [X_tr[bidxes == 0, j].min()] + qts.tolist())\n",
    "            self.maxs.append(\n",
    "                qts.tolist() + [X_tr[bidxes == len(qts), j].max()])\n",
    "\n",
    "    def generate(self, x, n=100):\n",
    "        d = X_tr.shape[1]\n",
    "\n",
    "        '''テスト事例の各特徴量が所属する四分位を求める'''\n",
    "        bi_true = []\n",
    "        for j in range(d):\n",
    "            bi_true.append(np.digitize(x[j], self.bins[j]))\n",
    "        bi_true = np.array(bi_true)\n",
    "        \n",
    "        '''疑似事例の元表現と解釈表現を生成する'''\n",
    "        bi_gen = np.random.randint(0, 4, size=(n, d))\n",
    "        Z_orig = np.zeros((n, d))\n",
    "        Z_interpret = np.zeros((n, d))\n",
    "        for i in range(n):\n",
    "            Z_interpret[i] = np.where(bi_gen[i] == bi_true, 1, 0)\n",
    "            for j in range(d):\n",
    "                bi = bi_gen[i, j]\n",
    "                min_norm = (self.mins[j][bi] - self.means[j][bi]) / self.stds[j][bi]\n",
    "                max_norm = (self.maxs[j][bi] - self.means[j][bi]) / self.stds[j][bi]\n",
    "                Z_orig[i, j] = scipy.stats.truncnorm.rvs(\n",
    "                    min_norm, max_norm, \n",
    "                    loc=self.means[j][bi], scale=self.stds[j][bi])\n",
    "        \n",
    "        return Z_orig, Z_interpret\n"
   ]
  },
  {
   "cell_type": "code",
   "execution_count": null,
   "metadata": {},
   "outputs": [],
   "source": [
    "gen = SampleGenerator()\n",
    "gen.prepare(X_tr)\n",
    "Z_orig, Z_interpret = gen.generate(X_te[0], n=5)\n",
    "print(pd.DataFrame(Z_orig, columns=dataset.feature_names))\n",
    "print(pd.DataFrame(Z_interpret, columns=dataset.feature_names))"
   ]
  },
  {
   "cell_type": "markdown",
   "metadata": {},
   "source": [
    "## LIMEによる説明（重み付き線形回帰モデルの学習）"
   ]
  },
  {
   "cell_type": "code",
   "execution_count": null,
   "metadata": {},
   "outputs": [],
   "source": [
    "from sklearn.linear_model import Ridge\n",
    "\n",
    "gen = SampleGenerator()\n",
    "gen.prepare(X_tr)\n",
    "Z_orig, Z_interpret = gen.generate(X_te[0], n=100)\n",
    "kernels = np.exp(-np.linalg.norm(X_te[0] - Z_orig, axis=1)**2 / 2.)\n",
    "y_pred = pred_model.predict(Z_orig)\n",
    "exp = Ridge(fit_intercept=False).fit(\n",
    "    Z_interpret, y_pred, sample_weight=kernels)\n",
    "\n",
    "print(pd.DataFrame(exp.coef_, index=dataset.feature_names))\n"
   ]
  }
 ],
 "metadata": {
  "interpreter": {
   "hash": "8da3052119902f97a9e3473d435dfc5b5b03c6f1b11b03f57d1041c0aaf9d392"
  },
  "kernelspec": {
   "display_name": "Python 3.8.6 64-bit ('DEIM2022_XAI_tutorial')",
   "language": "python",
   "name": "python3"
  },
  "language_info": {
   "codemirror_mode": {
    "name": "ipython",
    "version": 3
   },
   "file_extension": ".py",
   "mimetype": "text/x-python",
   "name": "python",
   "nbconvert_exporter": "python",
   "pygments_lexer": "ipython3",
   "version": "3.8.6"
  },
  "orig_nbformat": 4
 },
 "nbformat": 4,
 "nbformat_minor": 2
}
